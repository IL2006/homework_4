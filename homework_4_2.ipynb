{
 "cells": [
  {
   "cell_type": "code",
   "execution_count": 29,
   "id": "0c8611d5-19ce-4daa-8d17-df920a6f90d6",
   "metadata": {},
   "outputs": [],
   "source": [
    "\n",
    "\n",
    "import json\n",
    "purchases = {}                                                         # обьявим словарь\n",
    "with open(file='purchase_log.txt', encoding='utf-8') as file: # с помощью with открываем файл для чтения\n",
    "    for purchases_shop in file:                                        # итерируем элементы в файле\n",
    "        dict = json.loads(purchases_shop)                              # работаем со строками из файла file (type(dict) = dict)                         \n",
    "        for key_value in dict.items():                                 # итерируем значения пар\n",
    "            key = dict['user_id']                                      # key присваиваем значения ключа словаря dict\n",
    "            value = dict['category']                                   # value присваиваем значения переменной словаря dict\n",
    "            purchases[key] = value                                     # добавляем значение в словарь пары ключ-значение\n",
    "with open(file='visit_log.csv', mode='r') as file_visit_log, open(file='funnel.csv', mode='w') as file_funnel: # Открываем файлы: для чтения и для записи\n",
    "        for visit in file_visit_log:                                   # в цикле идем по строкам файла\n",
    "            visit_user_id = visit.strip().split(',')                   # делим строку на подстроки по условия \",\"\n",
    "            if visit_user_id[0] in purchases.keys():                   # если есть значения подстроки с номером 0 в ключах словаря         \n",
    "                visit_info= visit.strip() + ',' + purchases[visit_user_id[0]]     # склеиваем значения в строке по условию задания\n",
    "                file_funnel.write(visit_info+\"\\n\")                     # записываем полученную строку в funnel.csv       \n",
    "        \n",
    "\n",
    " \n",
    "\n"
   ]
  },
  {
   "cell_type": "code",
   "execution_count": null,
   "id": "58c10a4a-75a1-4077-815e-d9593cf39f85",
   "metadata": {},
   "outputs": [],
   "source": []
  }
 ],
 "metadata": {
  "kernelspec": {
   "display_name": "Python 3 (ipykernel)",
   "language": "python",
   "name": "python3"
  },
  "language_info": {
   "codemirror_mode": {
    "name": "ipython",
    "version": 3
   },
   "file_extension": ".py",
   "mimetype": "text/x-python",
   "name": "python",
   "nbconvert_exporter": "python",
   "pygments_lexer": "ipython3",
   "version": "3.12.7"
  }
 },
 "nbformat": 4,
 "nbformat_minor": 5
}
